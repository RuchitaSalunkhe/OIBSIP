{
  "nbformat": 4,
  "nbformat_minor": 0,
  "metadata": {
    "colab": {
      "provenance": [],
      "authorship_tag": "ABX9TyObMLzdEqV/Bu81Q8mvLELG",
      "include_colab_link": true
    },
    "kernelspec": {
      "name": "python3",
      "display_name": "Python 3"
    },
    "language_info": {
      "name": "python"
    }
  },
  "cells": [
    {
      "cell_type": "markdown",
      "metadata": {
        "id": "view-in-github",
        "colab_type": "text"
      },
      "source": [
        "<a href=\"https://colab.research.google.com/github/RuchitaSalunkhe/OIBSIP/blob/main/Task_1_Iris_Project_without_output.ipynb\" target=\"_parent\"><img src=\"https://colab.research.google.com/assets/colab-badge.svg\" alt=\"Open In Colab\"/></a>"
      ]
    },
    {
      "cell_type": "code",
      "execution_count": null,
      "metadata": {
        "id": "WNsy9CCNw4ha"
      },
      "outputs": [],
      "source": [
        "import pandas as pd"
      ]
    },
    {
      "cell_type": "code",
      "source": [
        "import numpy as np\n",
        "import pandas as pd\n",
        "import seaborn as sns\n",
        "from sklearn.datasets import load_iris\n",
        "from sklearn.model_selection import train_test_split\n",
        "from sklearn.svm import SVC\n",
        "from sklearn.metrics import accuracy_score, classification_report, confusion_matrix\n"
      ],
      "metadata": {
        "id": "uQ913siMyTC2"
      },
      "execution_count": null,
      "outputs": []
    },
    {
      "cell_type": "code",
      "source": [
        "from google.colab import files\n",
        "uploaded=files.upload()"
      ],
      "metadata": {
        "id": "XhGLeIazsTJC"
      },
      "execution_count": null,
      "outputs": []
    },
    {
      "cell_type": "code",
      "source": [
        "iris_df = pd.read_csv(\"Iris.csv\")"
      ],
      "metadata": {
        "id": "-3mTH_0X0BKN"
      },
      "execution_count": null,
      "outputs": []
    },
    {
      "cell_type": "code",
      "source": [
        "iris_df"
      ],
      "metadata": {
        "id": "ZzEcIODw1b2W"
      },
      "execution_count": null,
      "outputs": []
    },
    {
      "cell_type": "code",
      "source": [
        "iris_df.describe()"
      ],
      "metadata": {
        "id": "xDm9BfLd3rgr"
      },
      "execution_count": null,
      "outputs": []
    },
    {
      "cell_type": "code",
      "source": [
        "import seaborn as sns\n",
        "import matplotlib.pyplot as plt\n",
        "\n",
        "# Remove spaces and parentheses from column names\n",
        "iris_df.columns = [column.replace(' ', '_').replace('(', '').replace(')', '') for column in iris_df.columns]\n",
        "\n",
        "# Pairplot to visualize pairwise relationships in the dataset\n",
        "sns.pairplot(iris_df, hue='Species')\n",
        "plt.title('Pairplot of Iris dataset')\n",
        "plt.show()\n",
        "\n",
        "# Box plot to visualize the distribution of features for each species\n",
        "plt.figure(figsize=(10, 6))\n",
        "sns.boxplot(x='Species', y='SepalLengthCm', data=iris_df)\n",
        "plt.title('Boxplot of Sepal Length for each species')\n",
        "plt.show()\n",
        "\n",
        "# Violin plot to visualize the distribution of features for each species\n",
        "plt.figure(figsize=(10, 6))\n",
        "sns.violinplot(x='Species', y='PetalLengthCm', data=iris_df)\n",
        "plt.title('Violinplot of Petal Length for each species')\n",
        "plt.show()\n"
      ],
      "metadata": {
        "id": "1uKOW2NHCdLp"
      },
      "execution_count": null,
      "outputs": []
    },
    {
      "cell_type": "code",
      "source": [
        "import seaborn as sns\n",
        "import matplotlib.pyplot as plt\n",
        "\n",
        "# Compute the correlation matrix\n",
        "correlation_matrix = iris_df.corr()\n",
        "\n",
        "# Display the correlation matrix as a heatmap\n",
        "plt.figure(figsize=(10, 8))\n",
        "sns.heatmap(correlation_matrix, annot=True, cmap='coolwarm', fmt='.2f', linewidths=0.5)\n",
        "plt.title('Correlation Matrix')\n",
        "plt.show()\n"
      ],
      "metadata": {
        "id": "zWUZ3yoOYmDh"
      },
      "execution_count": null,
      "outputs": []
    },
    {
      "cell_type": "code",
      "source": [
        "from sklearn.preprocessing import LabelEncoder\n",
        "# Get the species labels from the DataFrame\n",
        "species_labels = iris_df['Species']\n",
        "\n",
        "# Initialize the LabelEncoder\n",
        "label_encoder = LabelEncoder()\n",
        "\n",
        "# Fit and transform the species labels into numerical values\n",
        "encoded_labels = label_encoder.fit_transform(species_labels)\n",
        "\n",
        "# Add the encoded labels back to the DataFrame\n",
        "iris_df['Encoded_Species'] = encoded_labels\n",
        "\n",
        "# Display the DataFrame with the encoded labels\n",
        "print(iris_df.head())\n"
      ],
      "metadata": {
        "id": "Al6fO9GXZwe9"
      },
      "execution_count": null,
      "outputs": []
    },
    {
      "cell_type": "code",
      "source": [
        "# Separate the feature dataset and target dataset\n",
        "X = iris_df.drop(columns=['Species', 'Encoded_Species'])  # Drop the species-related columns from feature dataset\n",
        "y = iris_df['Encoded_Species']  # Target dataset containing the encoded species labels\n",
        "\n",
        "# Display the feature dataset\n",
        "print(\"Feature dataset:\")\n",
        "print(X.head())\n",
        "\n",
        "# Display the target dataset\n",
        "print(\"\\nTarget dataset:\")\n",
        "print(y.head())\n"
      ],
      "metadata": {
        "id": "ke3fht0JdowJ"
      },
      "execution_count": null,
      "outputs": []
    },
    {
      "cell_type": "code",
      "source": [
        "# Split the data into 80% training and 20% testing sets\n",
        "X_train, X_test, y_train, y_test = train_test_split(X, y, test_size=0.2, random_state=42)\n"
      ],
      "metadata": {
        "id": "ASMhuNFuygc0"
      },
      "execution_count": null,
      "outputs": []
    },
    {
      "cell_type": "code",
      "source": [
        "# Create a SVM classifier\n",
        "svm_classifier = SVC(kernel='linear', C=1.0)\n",
        "\n",
        "# Train the model on the training data\n",
        "svm_classifier.fit(X_train, y_train)\n"
      ],
      "metadata": {
        "id": "MCOQCWQ1yk_9"
      },
      "execution_count": null,
      "outputs": []
    },
    {
      "cell_type": "code",
      "source": [
        "# Make predictions on the testing data\n",
        "y_pred = svm_classifier.predict(X_test)\n",
        "\n",
        "# Calculate accuracy\n",
        "accuracy = accuracy_score(y_test, y_pred)\n",
        "print(\"Accuracy:\", accuracy)\n",
        "\n",
        "# Print classification report\n"
      ],
      "metadata": {
        "id": "LBhPkVZUykxJ"
      },
      "execution_count": null,
      "outputs": []
    },
    {
      "cell_type": "markdown",
      "source": [
        "Accuracy: The model achieved an accuracy of 1.0, meaning it correctly classified all the samples in the testing data."
      ],
      "metadata": {
        "id": "kVVAou4kfjt9"
      }
    },
    {
      "cell_type": "code",
      "source": [
        "from sklearn.metrics import classification_report\n",
        "\n",
        "print(\"Classification Report:\")\n",
        "print(classification_report(y_test, y_pred, target_names=target_names))\n"
      ],
      "metadata": {
        "id": "LrEeVNXUyxiY"
      },
      "execution_count": null,
      "outputs": []
    },
    {
      "cell_type": "markdown",
      "source": [
        "Classification Report: The precision, recall, and F1-score for each class (setosa, versicolor, and virginica) are 1.0, indicating perfect classification for all classes."
      ],
      "metadata": {
        "id": "QHsPpqULfvyx"
      }
    },
    {
      "cell_type": "code",
      "source": [
        "# Print confusion matrix\n",
        "from sklearn.metrics import confusion_matrix\n",
        "\n",
        "conf_matrix = confusion_matrix(y_test, y_pred)\n",
        "print(\"Confusion Matrix:\")\n",
        "print(conf_matrix)\n"
      ],
      "metadata": {
        "id": "bj2LMCGzy4rI"
      },
      "execution_count": null,
      "outputs": []
    },
    {
      "cell_type": "markdown",
      "source": [
        "Confusion Matrix: The confusion matrix shows that there are no misclassifications, and all samples are correctly classified in each class"
      ],
      "metadata": {
        "id": "Xk3sB_R_f6Pj"
      }
    },
    {
      "cell_type": "code",
      "source": [
        "# Inverse transform the encoded labels to get the original species names\n",
        "species_names = label_encoder.inverse_transform(iris_df['Encoded_Species'].unique())\n",
        "\n",
        "print(\"\\nSpecies Names:\")\n",
        "print(species_names)\n"
      ],
      "metadata": {
        "id": "a5f8ekA8oASF"
      },
      "execution_count": null,
      "outputs": []
    },
    {
      "cell_type": "markdown",
      "source": [
        "The SVM model performed very well on this dataset, achieving perfect accuracy and classifying all samples correctly."
      ],
      "metadata": {
        "id": "MAQtd-tuos2c"
      }
    }
  ]
}